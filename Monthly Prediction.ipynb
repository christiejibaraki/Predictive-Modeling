{
 "cells": [
  {
   "cell_type": "code",
   "execution_count": 1,
   "metadata": {},
   "outputs": [],
   "source": [
    "import os\n",
    "import datetime as dt\n",
    "import numpy as np\n",
    "import pandas as pd\n",
    "import matplotlib as mpl\n",
    "import matplotlib.pyplot as plt\n",
    "import matplotlib.dates as mdates\n",
    "import seaborn as sns\n",
    "from core import aggregate_daily_data\n",
    "from core import plot_utils"
   ]
  },
  {
   "cell_type": "code",
   "execution_count": 2,
   "metadata": {},
   "outputs": [],
   "source": [
    "from sklearn.model_selection import train_test_split\n",
    "from sklearn import linear_model\n",
    "from sklearn import metrics"
   ]
  },
  {
   "cell_type": "markdown",
   "metadata": {},
   "source": [
    "## Create datasets\n",
    "### Daily data"
   ]
  },
  {
   "cell_type": "code",
   "execution_count": 3,
   "metadata": {},
   "outputs": [
    {
     "name": "stdout",
     "output_type": "stream",
     "text": [
      "shape daily data: (201, 32)\n"
     ]
    },
    {
     "data": {
      "text/html": [
       "<div>\n",
       "<style scoped>\n",
       "    .dataframe tbody tr th:only-of-type {\n",
       "        vertical-align: middle;\n",
       "    }\n",
       "\n",
       "    .dataframe tbody tr th {\n",
       "        vertical-align: top;\n",
       "    }\n",
       "\n",
       "    .dataframe thead th {\n",
       "        text-align: right;\n",
       "    }\n",
       "</style>\n",
       "<table border=\"1\" class=\"dataframe\">\n",
       "  <thead>\n",
       "    <tr style=\"text-align: right;\">\n",
       "      <th></th>\n",
       "      <th>Assessment Type</th>\n",
       "      <th>Assessment Kick-Off Date</th>\n",
       "      <th>Assessment Schedule Notes</th>\n",
       "      <th>Assessment Schedule Status</th>\n",
       "      <th>Assessor(s)</th>\n",
       "      <th>Assessment Documents</th>\n",
       "      <th>Assessment Estimated Completion Date</th>\n",
       "      <th>Assessment in the Next 90 Days?</th>\n",
       "      <th>Assessment Outbrief</th>\n",
       "      <th>Assessment Report Due</th>\n",
       "      <th>...</th>\n",
       "      <th>Year</th>\n",
       "      <th>Month</th>\n",
       "      <th>Day</th>\n",
       "      <th>Date</th>\n",
       "      <th>ATT</th>\n",
       "      <th>LSCA</th>\n",
       "      <th>OA</th>\n",
       "      <th>SCA</th>\n",
       "      <th>TRA</th>\n",
       "      <th>total_assessments_computed</th>\n",
       "    </tr>\n",
       "  </thead>\n",
       "  <tbody>\n",
       "    <tr>\n",
       "      <th>0</th>\n",
       "      <td>OA</td>\n",
       "      <td>10/3/17</td>\n",
       "      <td>NaN</td>\n",
       "      <td>Completed</td>\n",
       "      <td>NaN</td>\n",
       "      <td>NaN</td>\n",
       "      <td>NaN</td>\n",
       "      <td>No</td>\n",
       "      <td>NaN</td>\n",
       "      <td>NaN</td>\n",
       "      <td>...</td>\n",
       "      <td>2017</td>\n",
       "      <td>10</td>\n",
       "      <td>1</td>\n",
       "      <td>2017-10-01</td>\n",
       "      <td>0</td>\n",
       "      <td>0</td>\n",
       "      <td>1</td>\n",
       "      <td>0</td>\n",
       "      <td>0</td>\n",
       "      <td>1</td>\n",
       "    </tr>\n",
       "    <tr>\n",
       "      <th>1</th>\n",
       "      <td>SCA</td>\n",
       "      <td>10/16/17</td>\n",
       "      <td>NaN</td>\n",
       "      <td>Completed</td>\n",
       "      <td>NaN</td>\n",
       "      <td>NaN</td>\n",
       "      <td>NaN</td>\n",
       "      <td>No</td>\n",
       "      <td>10/30/17</td>\n",
       "      <td>11/1/17</td>\n",
       "      <td>...</td>\n",
       "      <td>2017</td>\n",
       "      <td>10</td>\n",
       "      <td>1</td>\n",
       "      <td>2017-10-01</td>\n",
       "      <td>0</td>\n",
       "      <td>0</td>\n",
       "      <td>0</td>\n",
       "      <td>1</td>\n",
       "      <td>0</td>\n",
       "      <td>1</td>\n",
       "    </tr>\n",
       "    <tr>\n",
       "      <th>2</th>\n",
       "      <td>OA</td>\n",
       "      <td>11/21/17</td>\n",
       "      <td>NaN</td>\n",
       "      <td>Completed</td>\n",
       "      <td>NaN</td>\n",
       "      <td>NaN</td>\n",
       "      <td>NaN</td>\n",
       "      <td>No</td>\n",
       "      <td>NaN</td>\n",
       "      <td>NaN</td>\n",
       "      <td>...</td>\n",
       "      <td>2017</td>\n",
       "      <td>11</td>\n",
       "      <td>1</td>\n",
       "      <td>2017-11-01</td>\n",
       "      <td>0</td>\n",
       "      <td>0</td>\n",
       "      <td>1</td>\n",
       "      <td>0</td>\n",
       "      <td>0</td>\n",
       "      <td>1</td>\n",
       "    </tr>\n",
       "    <tr>\n",
       "      <th>3</th>\n",
       "      <td>SCA</td>\n",
       "      <td>12/4/17</td>\n",
       "      <td>NaN</td>\n",
       "      <td>Completed</td>\n",
       "      <td>NaN</td>\n",
       "      <td>NaN</td>\n",
       "      <td>NaN</td>\n",
       "      <td>No</td>\n",
       "      <td>12/18/17</td>\n",
       "      <td>12/20/17</td>\n",
       "      <td>...</td>\n",
       "      <td>2017</td>\n",
       "      <td>12</td>\n",
       "      <td>1</td>\n",
       "      <td>2017-12-01</td>\n",
       "      <td>0</td>\n",
       "      <td>0</td>\n",
       "      <td>0</td>\n",
       "      <td>1</td>\n",
       "      <td>0</td>\n",
       "      <td>1</td>\n",
       "    </tr>\n",
       "    <tr>\n",
       "      <th>4</th>\n",
       "      <td>OA</td>\n",
       "      <td>12/19/17</td>\n",
       "      <td>NaN</td>\n",
       "      <td>Completed</td>\n",
       "      <td>NaN</td>\n",
       "      <td>NaN</td>\n",
       "      <td>NaN</td>\n",
       "      <td>No</td>\n",
       "      <td>NaN</td>\n",
       "      <td>NaN</td>\n",
       "      <td>...</td>\n",
       "      <td>2017</td>\n",
       "      <td>12</td>\n",
       "      <td>1</td>\n",
       "      <td>2017-12-01</td>\n",
       "      <td>0</td>\n",
       "      <td>0</td>\n",
       "      <td>1</td>\n",
       "      <td>0</td>\n",
       "      <td>0</td>\n",
       "      <td>1</td>\n",
       "    </tr>\n",
       "  </tbody>\n",
       "</table>\n",
       "<p>5 rows × 32 columns</p>\n",
       "</div>"
      ],
      "text/plain": [
       "  Assessment Type Assessment Kick-Off Date Assessment Schedule Notes  \\\n",
       "0              OA                  10/3/17                       NaN   \n",
       "1             SCA                 10/16/17                       NaN   \n",
       "2              OA                 11/21/17                       NaN   \n",
       "3             SCA                  12/4/17                       NaN   \n",
       "4              OA                 12/19/17                       NaN   \n",
       "\n",
       "  Assessment Schedule Status Assessor(s) Assessment Documents  \\\n",
       "0                  Completed         NaN                  NaN   \n",
       "1                  Completed         NaN                  NaN   \n",
       "2                  Completed         NaN                  NaN   \n",
       "3                  Completed         NaN                  NaN   \n",
       "4                  Completed         NaN                  NaN   \n",
       "\n",
       "  Assessment Estimated Completion Date Assessment in the Next 90 Days?  \\\n",
       "0                                  NaN                              No   \n",
       "1                                  NaN                              No   \n",
       "2                                  NaN                              No   \n",
       "3                                  NaN                              No   \n",
       "4                                  NaN                              No   \n",
       "\n",
       "  Assessment Outbrief Assessment Report Due  ...  Year Month Day        Date  \\\n",
       "0                 NaN                   NaN  ...  2017    10   1  2017-10-01   \n",
       "1            10/30/17               11/1/17  ...  2017    10   1  2017-10-01   \n",
       "2                 NaN                   NaN  ...  2017    11   1  2017-11-01   \n",
       "3            12/18/17              12/20/17  ...  2017    12   1  2017-12-01   \n",
       "4                 NaN                   NaN  ...  2017    12   1  2017-12-01   \n",
       "\n",
       "  ATT  LSCA OA SCA TRA total_assessments_computed  \n",
       "0   0     0  1   0   0                          1  \n",
       "1   0     0  0   1   0                          1  \n",
       "2   0     0  1   0   0                          1  \n",
       "3   0     0  0   1   0                          1  \n",
       "4   0     0  1   0   0                          1  \n",
       "\n",
       "[5 rows x 32 columns]"
      ]
     },
     "execution_count": 3,
     "metadata": {},
     "output_type": "execute_result"
    }
   ],
   "source": [
    "df_daily = pd.read_csv(os.path.join('.', 'Assessment Data_Daily.csv'))\n",
    "df_daily = aggregate_daily_data.clean_rows_helper(df_daily)\n",
    "df_daily = aggregate_daily_data.create_date_columns_helper(df_daily)\n",
    "df_daily = aggregate_daily_data.one_hot_encode_assessment_helper(df_daily)\n",
    "df_daily = aggregate_daily_data.subset_data_by_schedule_status_helper(df_daily)\n",
    "print(f\"shape daily data: {df_daily.shape}\")\n",
    "df_daily.head()"
   ]
  },
  {
   "cell_type": "markdown",
   "metadata": {},
   "source": [
    "### ALL Monthly data"
   ]
  },
  {
   "cell_type": "code",
   "execution_count": 4,
   "metadata": {},
   "outputs": [
    {
     "data": {
      "image/png": "[encoded data removed]",
      "text/plain": [
       "<Figure size 1440x720 with 1 Axes>"
      ]
     },
     "metadata": {
      "needs_background": "light"
     },
     "output_type": "display_data"
    }
   ],
   "source": [
    "monthly_data = aggregate_daily_data.create_monthly_aggregate_from_daily_data_helper(df_daily)\n",
    "plt.figure(figsize=(20,10))\n",
    "ax = monthly_data['total_assessments_computed'].plot(marker = '.', linewidth=1)\n",
    "MOVING_AVG_WINDOW = 6\n",
    "monthly_data['6_mo_avg'] = (monthly_data['total_assessments_computed'].\n",
    "                              rolling(window=MOVING_AVG_WINDOW).mean())\n",
    "ax2 = monthly_data['6_mo_avg'].plot(marker = \",\", linewidth=0.5, color = \"red\")\n",
    "plt.ylabel('Number of Assessments', size=15)\n",
    "plt.xlabel(\"Date\", size=15)\n",
    "plt.title('Total Assessments', size=18)\n",
    "plt.xticks(rotation=90)\n",
    "ax.set_ylim([0, 12])\n",
    "ax.set_xlim([min(monthly_data.index), max(monthly_data.index)])\n",
    "plt.legend(fontsize=20)\n",
    "# Major ticks every month.\n",
    "formatter = mdates.DateFormatter(\"%Y-%m\") ### formatter of the date\n",
    "locator = mdates.MonthLocator()\n",
    "ax.xaxis.set_major_formatter(formatter) ## calling the formatter for the x-axis\n",
    "ax.xaxis.set_major_locator(locator)"
   ]
  },
  {
   "cell_type": "markdown",
   "metadata": {},
   "source": [
    "## Current lr model"
   ]
  },
  {
   "cell_type": "code",
   "execution_count": 5,
   "metadata": {},
   "outputs": [
    {
     "data": {
      "text/html": [
       "<div>\n",
       "<style scoped>\n",
       "    .dataframe tbody tr th:only-of-type {\n",
       "        vertical-align: middle;\n",
       "    }\n",
       "\n",
       "    .dataframe tbody tr th {\n",
       "        vertical-align: top;\n",
       "    }\n",
       "\n",
       "    .dataframe thead th {\n",
       "        text-align: right;\n",
       "    }\n",
       "</style>\n",
       "<table border=\"1\" class=\"dataframe\">\n",
       "  <thead>\n",
       "    <tr style=\"text-align: right;\">\n",
       "      <th></th>\n",
       "      <th>ATT</th>\n",
       "      <th>LSCA</th>\n",
       "      <th>OA</th>\n",
       "      <th>SCA</th>\n",
       "      <th>TRA</th>\n",
       "      <th>total_assessments_computed</th>\n",
       "      <th>6_mo_avg</th>\n",
       "      <th>time_index</th>\n",
       "    </tr>\n",
       "    <tr>\n",
       "      <th>Date</th>\n",
       "      <th></th>\n",
       "      <th></th>\n",
       "      <th></th>\n",
       "      <th></th>\n",
       "      <th></th>\n",
       "      <th></th>\n",
       "      <th></th>\n",
       "      <th></th>\n",
       "    </tr>\n",
       "  </thead>\n",
       "  <tbody>\n",
       "    <tr>\n",
       "      <th>2017-10-01</th>\n",
       "      <td>0</td>\n",
       "      <td>0</td>\n",
       "      <td>1</td>\n",
       "      <td>1</td>\n",
       "      <td>0</td>\n",
       "      <td>2</td>\n",
       "      <td>NaN</td>\n",
       "      <td>0</td>\n",
       "    </tr>\n",
       "    <tr>\n",
       "      <th>2017-11-01</th>\n",
       "      <td>0</td>\n",
       "      <td>0</td>\n",
       "      <td>1</td>\n",
       "      <td>0</td>\n",
       "      <td>0</td>\n",
       "      <td>1</td>\n",
       "      <td>NaN</td>\n",
       "      <td>1</td>\n",
       "    </tr>\n",
       "    <tr>\n",
       "      <th>2017-12-01</th>\n",
       "      <td>0</td>\n",
       "      <td>0</td>\n",
       "      <td>1</td>\n",
       "      <td>1</td>\n",
       "      <td>0</td>\n",
       "      <td>2</td>\n",
       "      <td>NaN</td>\n",
       "      <td>2</td>\n",
       "    </tr>\n",
       "    <tr>\n",
       "      <th>2018-01-01</th>\n",
       "      <td>0</td>\n",
       "      <td>0</td>\n",
       "      <td>3</td>\n",
       "      <td>1</td>\n",
       "      <td>0</td>\n",
       "      <td>4</td>\n",
       "      <td>NaN</td>\n",
       "      <td>3</td>\n",
       "    </tr>\n",
       "    <tr>\n",
       "      <th>2018-02-01</th>\n",
       "      <td>0</td>\n",
       "      <td>0</td>\n",
       "      <td>0</td>\n",
       "      <td>1</td>\n",
       "      <td>0</td>\n",
       "      <td>1</td>\n",
       "      <td>NaN</td>\n",
       "      <td>4</td>\n",
       "    </tr>\n",
       "  </tbody>\n",
       "</table>\n",
       "</div>"
      ],
      "text/plain": [
       "            ATT  LSCA  OA  SCA  TRA  total_assessments_computed  6_mo_avg  \\\n",
       "Date                                                                        \n",
       "2017-10-01    0     0   1    1    0                           2       NaN   \n",
       "2017-11-01    0     0   1    0    0                           1       NaN   \n",
       "2017-12-01    0     0   1    1    0                           2       NaN   \n",
       "2018-01-01    0     0   3    1    0                           4       NaN   \n",
       "2018-02-01    0     0   0    1    0                           1       NaN   \n",
       "\n",
       "            time_index  \n",
       "Date                    \n",
       "2017-10-01           0  \n",
       "2017-11-01           1  \n",
       "2017-12-01           2  \n",
       "2018-01-01           3  \n",
       "2018-02-01           4  "
      ]
     },
     "execution_count": 5,
     "metadata": {},
     "output_type": "execute_result"
    }
   ],
   "source": [
    "monthly_data['time_index'] = np.arange(len(monthly_data))\n",
    "monthly_data.head()"
   ]
  },
  {
   "cell_type": "code",
   "execution_count": 6,
   "metadata": {},
   "outputs": [],
   "source": [
    "X = monthly_data.time_index.values\n",
    "y = (monthly_data['total_assessments_computed']).values\n",
    "X = X.reshape(-1,1)"
   ]
  },
  {
   "cell_type": "code",
   "execution_count": 7,
   "metadata": {},
   "outputs": [
    {
     "name": "stdout",
     "output_type": "stream",
     "text": [
      "-------------------------------------------\n",
      "Root Mean Squared Error-Test: 1.9892596747443818\n",
      "Mean Squared Error-Test: 3.9571540535641234\n"
     ]
    }
   ],
   "source": [
    "X_train, X_test, y_train, y_test = train_test_split(X, y, test_size = 0.3, random_state=42)\n",
    "reg_all = linear_model.LinearRegression()\n",
    "reg_all.fit(X_train, y_train)\n",
    "print('-------------------------------------------')\n",
    "from sklearn import metrics \n",
    "print('Root Mean Squared Error-Test:', np.sqrt(metrics.mean_squared_error(y_test, reg_all.predict(X_test))))\n",
    "mse = metrics.mean_squared_error(y_test, reg_all.predict(X_test))\n",
    "print('Mean Squared Error-Test:',mse)"
   ]
  },
  {
   "cell_type": "code",
   "execution_count": 8,
   "metadata": {},
   "outputs": [
    {
     "data": {
      "text/plain": [
       "[49, 50, 51, 52, 53]"
      ]
     },
     "execution_count": 8,
     "metadata": {},
     "output_type": "execute_result"
    }
   ],
   "source": [
    "Xnew = [X.max() + increment for increment in range(1,6)]\n",
    "Xnew"
   ]
  },
  {
   "cell_type": "code",
   "execution_count": 9,
   "metadata": {},
   "outputs": [
    {
     "name": "stdout",
     "output_type": "stream",
     "text": [
      "X=49, Predicted=1.7067635824983114\n",
      "X=50, Predicted=1.8078233123339478\n",
      "X=51, Predicted=1.9088830421695842\n",
      "X=52, Predicted=2.0099427720052203\n",
      "X=53, Predicted=2.111002501840857\n"
     ]
    }
   ],
   "source": [
    "ynew = reg_all.predict(X)\n",
    "for i in range(len(Xnew)):\n",
    "    print(\"X=%s, Predicted=%s\" % (Xnew[i], ynew[i]))"
   ]
  },
  {
   "cell_type": "markdown",
   "metadata": {},
   "source": [
    "## Monthly Prediction\n",
    "#### At the end of every month predict the next three months"
   ]
  },
  {
   "cell_type": "code",
   "execution_count": null,
   "metadata": {},
   "outputs": [],
   "source": []
  }
 ],
 "metadata": {
  "kernelspec": {
   "display_name": "Python 3",
   "language": "python",
   "name": "python3"
  },
  "language_info": {
   "codemirror_mode": {
    "name": "ipython",
    "version": 3
   },
   "file_extension": ".py",
   "mimetype": "text/x-python",
   "name": "python",
   "nbconvert_exporter": "python",
   "pygments_lexer": "ipython3",
   "version": "3.8.8"
  }
 },
 "nbformat": 4,
 "nbformat_minor": 1
}
